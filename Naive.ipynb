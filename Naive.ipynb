{
 "cells": [
  {
   "cell_type": "code",
   "execution_count": 1,
   "metadata": {},
   "outputs": [],
   "source": [
    "import numpy as nm \n",
    "import matplotlib.pyplot as mtp \n",
    "import pandas as pd \n",
    "from sklearn.model_selection import train_test_split \n",
    "from sklearn.preprocessing import LabelEncoder \n"
   ]
  },
  {
   "cell_type": "code",
   "execution_count": 8,
   "metadata": {},
   "outputs": [
    {
     "name": "stdout",
     "output_type": "stream",
     "text": [
      "Sample Dataset - \n",
      "     Day   Outlook Temperature Humidity    Wind PlayTennis\n",
      "0    D1     Sunny         Hot     High    Weak         No\n",
      "1    D2     Sunny         Hot     High  Strong         No\n",
      "2    D3  Overcast         Hot     High    Weak        Yes\n",
      "3    D4      Rain        Mild     High    Weak        Yes\n",
      "4    D5      Rain        Cool   Normal    Weak        Yes\n",
      "5    D6      Rain        Cool   Normal  Strong         No\n",
      "6    D7  Overcast        Cool   Normal  Strong        Yes\n",
      "7    D8     Sunny        Mild     High    Weak         No\n",
      "8    D9     Sunny        Cool   Normal    Weak        Yes\n",
      "9   D10      Rain        Mild   Normal    Weak        Yes\n",
      "10  D11     Sunny        Mild   Normal  Strong        Yes\n",
      "11  D12  Overcast        Mild     High  Strong        Yes\n",
      "12  D13  Overcast         Hot   Normal    Weak        Yes\n",
      "13  D14      Rain        Mild     High  Strong         No \n",
      "\n"
     ]
    }
   ],
   "source": [
    "dataset = pd.read_csv('datasets/naive.csv') \n",
    "print(\"Sample Dataset - \\n\",dataset,\"\\n\") "
   ]
  },
  {
   "cell_type": "code",
   "execution_count": 9,
   "metadata": {},
   "outputs": [
    {
     "name": "stdout",
     "output_type": "stream",
     "text": [
      "Given Data after Encoding - \n",
      "     Day   Outlook Temperature Humidity    Wind PlayTennis  outlook_n  \\\n",
      "0    D1     Sunny         Hot     High    Weak         No          2   \n",
      "1    D2     Sunny         Hot     High  Strong         No          2   \n",
      "2    D3  Overcast         Hot     High    Weak        Yes          0   \n",
      "3    D4      Rain        Mild     High    Weak        Yes          1   \n",
      "4    D5      Rain        Cool   Normal    Weak        Yes          1   \n",
      "5    D6      Rain        Cool   Normal  Strong         No          1   \n",
      "6    D7  Overcast        Cool   Normal  Strong        Yes          0   \n",
      "7    D8     Sunny        Mild     High    Weak         No          2   \n",
      "8    D9     Sunny        Cool   Normal    Weak        Yes          2   \n",
      "9   D10      Rain        Mild   Normal    Weak        Yes          1   \n",
      "10  D11     Sunny        Mild   Normal  Strong        Yes          2   \n",
      "11  D12  Overcast        Mild     High  Strong        Yes          0   \n",
      "12  D13  Overcast         Hot   Normal    Weak        Yes          0   \n",
      "13  D14      Rain        Mild     High  Strong         No          1   \n",
      "\n",
      "    temperature_n  humidity_n  wind_n  \n",
      "0               1           0       1  \n",
      "1               1           0       0  \n",
      "2               1           0       1  \n",
      "3               2           0       1  \n",
      "4               0           1       1  \n",
      "5               0           1       0  \n",
      "6               0           1       0  \n",
      "7               2           0       1  \n",
      "8               0           1       1  \n",
      "9               2           1       1  \n",
      "10              2           1       0  \n",
      "11              2           0       0  \n",
      "12              1           1       1  \n",
      "13              2           0       0   \n",
      "\n"
     ]
    }
   ],
   "source": [
    "le_outlook = LabelEncoder() \n",
    "dataset['outlook_n'] = le_outlook.fit_transform(dataset['Outlook']) \n",
    "le_temperature = LabelEncoder() \n",
    "dataset['temperature_n'] = le_temperature.fit_transform(dataset['Temperature']) \n",
    "le_humidity = LabelEncoder() \n",
    "dataset['humidity_n'] = le_humidity.fit_transform(dataset['Humidity']) \n",
    "le_wind = LabelEncoder() \n",
    "dataset['wind_n'] = le_wind.fit_transform(dataset['Wind'])\n",
    "print(\"Given Data after Encoding - \\n\",dataset,\"\\n\") "
   ]
  },
  {
   "cell_type": "code",
   "execution_count": 11,
   "metadata": {},
   "outputs": [
    {
     "name": "stdout",
     "output_type": "stream",
     "text": [
      "X - Values\n",
      "     outlook_n  temperature_n  humidity_n  wind_n\n",
      "0           2              1           0       1\n",
      "1           2              1           0       0\n",
      "2           0              1           0       1\n",
      "3           1              2           0       1\n",
      "4           1              0           1       1\n",
      "5           1              0           1       0\n",
      "6           0              0           1       0\n",
      "7           2              2           0       1\n",
      "8           2              0           1       1\n",
      "9           1              2           1       1\n",
      "10          2              2           1       0\n",
      "11          0              2           0       0\n",
      "12          0              1           1       1\n",
      "13          1              2           0       0 \n",
      "\n",
      "Y - Values\n",
      " 0      No\n",
      "1      No\n",
      "2     Yes\n",
      "3     Yes\n",
      "4     Yes\n",
      "5      No\n",
      "6     Yes\n",
      "7      No\n",
      "8     Yes\n",
      "9     Yes\n",
      "10    Yes\n",
      "11    Yes\n",
      "12    Yes\n",
      "13     No\n",
      "Name: PlayTennis, dtype: object \n",
      "\n"
     ]
    }
   ],
   "source": [
    "x = dataset[['outlook_n','temperature_n','humidity_n','wind_n']] \n",
    "print(\"X - Values\\n\",x,\"\\n\") \n",
    "y = dataset['PlayTennis'] \n",
    "print(\"Y - Values\\n\",y,\"\\n\")"
   ]
  },
  {
   "cell_type": "code",
   "execution_count": 13,
   "metadata": {},
   "outputs": [
    {
     "name": "stdout",
     "output_type": "stream",
     "text": [
      "Testing values for play tennis\n",
      " 8    Yes\n",
      "6    Yes\n",
      "4    Yes\n",
      "Name: PlayTennis, dtype: object\n",
      "Predicted values for play tennis ['Yes' 'Yes' 'Yes']\n"
     ]
    }
   ],
   "source": [
    "x_train, x_test, y_train, y_test = train_test_split(x, y, test_size = 0.15, random_state = 0) \n",
    "from sklearn.naive_bayes import GaussianNB \n",
    "gnb = GaussianNB() \n",
    "gnb.fit(x, y) \n",
    "y_pred = gnb.predict(x_test) \n",
    "print(\"Testing values for play tennis\\n\",y_test) \n",
    "print(\"Predicted values for play tennis\",y_pred) "
   ]
  },
  {
   "cell_type": "code",
   "execution_count": null,
   "metadata": {},
   "outputs": [],
   "source": []
  }
 ],
 "metadata": {
  "kernelspec": {
   "display_name": "Python 3",
   "language": "python",
   "name": "python3"
  },
  "language_info": {
   "codemirror_mode": {
    "name": "ipython",
    "version": 3
   },
   "file_extension": ".py",
   "mimetype": "text/x-python",
   "name": "python",
   "nbconvert_exporter": "python",
   "pygments_lexer": "ipython3",
   "version": "3.9.7"
  },
  "orig_nbformat": 4,
  "vscode": {
   "interpreter": {
    "hash": "81794d4967e6c3204c66dcd87b604927b115b27c00565d3d43f05ba2f3a2cb0d"
   }
  }
 },
 "nbformat": 4,
 "nbformat_minor": 2
}
