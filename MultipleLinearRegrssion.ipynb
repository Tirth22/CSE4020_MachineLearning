{
 "cells": [
  {
   "cell_type": "code",
   "execution_count": null,
   "metadata": {},
   "outputs": [],
   "source": [
    "#Patel Tirth Ashvinbhai 20BCE2022\n",
    "\n",
    "import pandas as pd \n",
    "import numpy as np \n",
    "import matplotlib.pyplot as plt \n",
    "from sklearn import linear_model \n",
    "import math "
   ]
  },
  {
   "cell_type": "code",
   "execution_count": null,
   "metadata": {},
   "outputs": [],
   "source": [
    "#import dataset\n",
    "dataset=pd.read_csv(\"datasets\\house_price.csv\") \n",
    "dataset.bedrooms.median() \n",
    "#to fill null values with median\n",
    "median_bedrooms=math.floor(dataset.bedrooms.median()) \n",
    "dataset.bedrooms=dataset.bedrooms.fillna(median_bedrooms) \n",
    "dataset \n"
   ]
  },
  {
   "cell_type": "code",
   "execution_count": null,
   "metadata": {},
   "outputs": [],
   "source": [
    "#train model\n",
    "reg = linear_model.LinearRegression() \n",
    "reg.fit(dataset[['area','bedrooms','age']],dataset.price) \n",
    "reg.coef_ \n",
    "print(\"coefficients of x in line are:\",reg.coef_) \n",
    "reg.intercept_ \n",
    "print(\"intercept of line\",reg.intercept_) \n",
    "\n",
    "#After training, Predict for the new sample.\n",
    "\n",
    "#Find price of home with 3000 sqr ft area, 3 bedrooms, 40 year old house\n",
    "# price=m1*area+m2*bedrooms+m3*age+c\n",
    "print(\"price of home with 3000 sqr ft area, 3 bedrooms, 40 year old house\") \n",
    "print(reg.predict([[3000, 3, 40]])) \n",
    "\n",
    "\n",
    "#Find price of home with 2500 sqr ft area, 4 bedrooms, 5 year old house\n",
    "print(\"price of home with 2500 sqr ft area, 4 bedrooms, 5 year old house\") \n",
    "print(reg.predict([[2500, 4, 5]])) "
   ]
  }
 ],
 "metadata": {
  "kernelspec": {
   "display_name": "Python 3.9.7 64-bit",
   "language": "python",
   "name": "python3"
  },
  "language_info": {
   "codemirror_mode": {
    "name": "ipython",
    "version": 3
   },
   "file_extension": ".py",
   "mimetype": "text/x-python",
   "name": "python",
   "nbconvert_exporter": "python",
   "pygments_lexer": "ipython3",
   "version": "3.9.7 (tags/v3.9.7:1016ef3, Aug 30 2021, 20:19:38) [MSC v.1929 64 bit (AMD64)]"
  },
  "orig_nbformat": 4,
  "vscode": {
   "interpreter": {
    "hash": "81794d4967e6c3204c66dcd87b604927b115b27c00565d3d43f05ba2f3a2cb0d"
   }
  }
 },
 "nbformat": 4,
 "nbformat_minor": 2
}
