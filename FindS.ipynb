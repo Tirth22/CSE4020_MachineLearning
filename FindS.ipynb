{
 "cells": [
  {
   "cell_type": "code",
   "execution_count": 146,
   "metadata": {},
   "outputs": [],
   "source": [
    "#Patel Tirth Ashvinbhai 20BCE2022\n",
    "import numpy as np\n",
    "import pandas as pd\n"
   ]
  },
  {
   "cell_type": "code",
   "execution_count": 143,
   "metadata": {},
   "outputs": [
    {
     "name": "stdout",
     "output_type": "stream",
     "text": [
      "The given data is:\n"
     ]
    },
    {
     "data": {
      "text/html": [
       "<div>\n",
       "<style scoped>\n",
       "    .dataframe tbody tr th:only-of-type {\n",
       "        vertical-align: middle;\n",
       "    }\n",
       "\n",
       "    .dataframe tbody tr th {\n",
       "        vertical-align: top;\n",
       "    }\n",
       "\n",
       "    .dataframe thead th {\n",
       "        text-align: right;\n",
       "    }\n",
       "</style>\n",
       "<table border=\"1\" class=\"dataframe\">\n",
       "  <thead>\n",
       "    <tr style=\"text-align: right;\">\n",
       "      <th></th>\n",
       "      <th>Sky</th>\n",
       "      <th>AirTemp</th>\n",
       "      <th>Humidity</th>\n",
       "      <th>Wind</th>\n",
       "      <th>Water</th>\n",
       "      <th>Forecast</th>\n",
       "      <th>EnjoySport</th>\n",
       "    </tr>\n",
       "  </thead>\n",
       "  <tbody>\n",
       "    <tr>\n",
       "      <th>0</th>\n",
       "      <td>Sunny</td>\n",
       "      <td>Warm</td>\n",
       "      <td>Normal</td>\n",
       "      <td>Strong</td>\n",
       "      <td>Warm</td>\n",
       "      <td>Same</td>\n",
       "      <td>Yes</td>\n",
       "    </tr>\n",
       "    <tr>\n",
       "      <th>1</th>\n",
       "      <td>Sunny</td>\n",
       "      <td>Warm</td>\n",
       "      <td>High</td>\n",
       "      <td>Strong</td>\n",
       "      <td>Warm</td>\n",
       "      <td>Same</td>\n",
       "      <td>Yes</td>\n",
       "    </tr>\n",
       "    <tr>\n",
       "      <th>2</th>\n",
       "      <td>Rainy</td>\n",
       "      <td>Cold</td>\n",
       "      <td>High</td>\n",
       "      <td>Strong</td>\n",
       "      <td>Warm</td>\n",
       "      <td>Change</td>\n",
       "      <td>No</td>\n",
       "    </tr>\n",
       "    <tr>\n",
       "      <th>3</th>\n",
       "      <td>Sunny</td>\n",
       "      <td>Warm</td>\n",
       "      <td>High</td>\n",
       "      <td>Strong</td>\n",
       "      <td>Cool</td>\n",
       "      <td>Change</td>\n",
       "      <td>Yes</td>\n",
       "    </tr>\n",
       "  </tbody>\n",
       "</table>\n",
       "</div>"
      ],
      "text/plain": [
       "     Sky AirTemp Humidity    Wind Water Forecast EnjoySport\n",
       "0  Sunny    Warm   Normal  Strong  Warm     Same        Yes\n",
       "1  Sunny    Warm     High  Strong  Warm     Same        Yes\n",
       "2  Rainy    Cold     High  Strong  Warm   Change         No\n",
       "3  Sunny    Warm     High  Strong  Cool   Change        Yes"
      ]
     },
     "execution_count": 143,
     "metadata": {},
     "output_type": "execute_result"
    }
   ],
   "source": [
    "print(\"The given data is:\")\n",
    "data = pd.read_csv(\"datasets\\EnjoySport.csv\")\n",
    "data\n"
   ]
  },
  {
   "cell_type": "code",
   "execution_count": 144,
   "metadata": {},
   "outputs": [],
   "source": [
    "def FindS(data):\n",
    "    dt = np.array(data)\n",
    "    n = len(dt[0])-1\n",
    "    target = np.array(data)[:,-1]\n",
    "    specific_hypothesis=[\"_\"]*n\n",
    "    print(\"H0 = \",specific_hypothesis)\n",
    "    hypothesis = []\n",
    "    for i, val in enumerate(target): \n",
    "        if val == 'Yes': \n",
    "            specific_hypothesis=dt[i][:-1].copy()\n",
    "            hypothesis.append(specific_hypothesis)\n",
    "            break\n",
    "    for i, val in enumerate(dt): \n",
    "        \n",
    "        if target[i] =='Yes': \n",
    "            for x in range(n): \n",
    "                if val[x] != specific_hypothesis[x]: \n",
    "                    specific_hypothesis[x]='?'\n",
    "                else: \n",
    "                    pass\n",
    "        hypothesis.append(specific_hypothesis)\n",
    "        print(\"H\"+str(i+1)+\" = \",specific_hypothesis)\n",
    "    \n",
    "    print(\"\\nThe maximally specific hypothesis is:\\n\", specific_hypothesis)\n",
    "    return\n",
    "        "
   ]
  },
  {
   "cell_type": "code",
   "execution_count": 145,
   "metadata": {},
   "outputs": [
    {
     "name": "stdout",
     "output_type": "stream",
     "text": [
      "H0 =  ['_', '_', '_', '_', '_', '_']\n",
      "H1 =  ['Sunny' 'Warm' 'Normal' 'Strong' 'Warm' 'Same']\n",
      "H2 =  ['Sunny' 'Warm' '?' 'Strong' 'Warm' 'Same']\n",
      "H3 =  ['Sunny' 'Warm' '?' 'Strong' 'Warm' 'Same']\n",
      "H4 =  ['Sunny' 'Warm' '?' 'Strong' '?' '?']\n",
      "\n",
      "The maximally specific hypothesis is:\n",
      " ['Sunny' 'Warm' '?' 'Strong' '?' '?']\n"
     ]
    }
   ],
   "source": [
    "FindS(data)"
   ]
  }
 ],
 "metadata": {
  "kernelspec": {
   "display_name": "Python 3.9.7 64-bit",
   "language": "python",
   "name": "python3"
  },
  "language_info": {
   "codemirror_mode": {
    "name": "ipython",
    "version": 3
   },
   "file_extension": ".py",
   "mimetype": "text/x-python",
   "name": "python",
   "nbconvert_exporter": "python",
   "pygments_lexer": "ipython3",
   "version": "3.9.7 (tags/v3.9.7:1016ef3, Aug 30 2021, 20:19:38) [MSC v.1929 64 bit (AMD64)]"
  },
  "orig_nbformat": 4,
  "vscode": {
   "interpreter": {
    "hash": "81794d4967e6c3204c66dcd87b604927b115b27c00565d3d43f05ba2f3a2cb0d"
   }
  }
 },
 "nbformat": 4,
 "nbformat_minor": 2
}
