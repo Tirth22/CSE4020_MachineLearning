{
 "cells": [
  {
   "cell_type": "code",
   "execution_count": 68,
   "metadata": {},
   "outputs": [],
   "source": [
    "import numpy as np \n",
    "import pandas as pd \n",
    "import scipy.spatial\n",
    "import math"
   ]
  },
  {
   "cell_type": "code",
   "execution_count": 69,
   "metadata": {},
   "outputs": [],
   "source": [
    "dataset = pd.read_csv('datasets\\knn.csv') \n",
    "x=dataset.iloc[:,0:-1].values \n",
    "y=dataset.iloc[:,-1].values "
   ]
  },
  {
   "cell_type": "code",
   "execution_count": 70,
   "metadata": {},
   "outputs": [
    {
     "name": "stdout",
     "output_type": "stream",
     "text": [
      "x [[167  51]\n",
      " [182  62]\n",
      " [176  69]\n",
      " [173  64]\n",
      " [172  65]\n",
      " [174  56]\n",
      " [169  58]\n",
      " [173  57]\n",
      " [170  55]]\n",
      "y ['Underweight' 'Normal' 'Normal' 'Normal' 'Normal' 'Underweight' 'Normal'\n",
      " 'Normal' 'Normal']\n"
     ]
    }
   ],
   "source": [
    "print(\"x\",x) \n",
    "print(\"y\",y)"
   ]
  },
  {
   "cell_type": "code",
   "execution_count": 71,
   "metadata": {},
   "outputs": [],
   "source": [
    "def most_frequent(List):\n",
    "    counter = 0\n",
    "    num = List[0]\n",
    "     \n",
    "    for i in List:\n",
    "        curr_frequency = List.count(i)\n",
    "        if(curr_frequency> counter):\n",
    "            counter = curr_frequency\n",
    "            num = i\n",
    " \n",
    "    return num"
   ]
  },
  {
   "cell_type": "code",
   "execution_count": 72,
   "metadata": {},
   "outputs": [],
   "source": [
    "def cal_distance(x,y,x_pred,y_pred): \n",
    "    distance = math.sqrt((x-x_pred)**2+(y-y_pred)**2)\n",
    "\n",
    "    return distance"
   ]
  },
  {
   "cell_type": "code",
   "execution_count": 73,
   "metadata": {},
   "outputs": [],
   "source": [
    "def knn(x,k):\n",
    "    x_pred = 170\n",
    "    y_pred = 57\n",
    "    dist = []\n",
    "    res = []\n",
    "    for i in range(len(x)):\n",
    "        dist.append(cal_distance(int(x[i][0]),int(x[i][1]),x_pred,y_pred))\n",
    "    \n",
    "    ranks = pd.Series(dist).rank().tolist()\n",
    "\n",
    "    for i in range(1,k+1):\n",
    "        res.append(y[ranks.index(i)])\n",
    "\n",
    "    return most_frequent(res)\n",
    "        \n",
    "    \n"
   ]
  },
  {
   "cell_type": "code",
   "execution_count": 78,
   "metadata": {},
   "outputs": [
    {
     "name": "stdout",
     "output_type": "stream",
     "text": [
      "The result for Height = 170 and Weight = 57 is  Normal\n"
     ]
    }
   ],
   "source": [
    "print(\"The result for Height = 170 and Weight = 57 is \", knn(x,3))"
   ]
  }
 ],
 "metadata": {
  "kernelspec": {
   "display_name": "Python 3",
   "language": "python",
   "name": "python3"
  },
  "language_info": {
   "codemirror_mode": {
    "name": "ipython",
    "version": 3
   },
   "file_extension": ".py",
   "mimetype": "text/x-python",
   "name": "python",
   "nbconvert_exporter": "python",
   "pygments_lexer": "ipython3",
   "version": "3.9.7 (tags/v3.9.7:1016ef3, Aug 30 2021, 20:19:38) [MSC v.1929 64 bit (AMD64)]"
  },
  "orig_nbformat": 4,
  "vscode": {
   "interpreter": {
    "hash": "81794d4967e6c3204c66dcd87b604927b115b27c00565d3d43f05ba2f3a2cb0d"
   }
  }
 },
 "nbformat": 4,
 "nbformat_minor": 2
}
