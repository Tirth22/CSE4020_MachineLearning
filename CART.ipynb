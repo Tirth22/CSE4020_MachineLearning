{
 "cells": [
  {
   "cell_type": "code",
   "execution_count": 1,
   "metadata": {},
   "outputs": [],
   "source": [
    "import numpy as np \n",
    "import pandas as pd \n",
    "from sklearn.model_selection import train_test_split \n",
    "from sklearn.tree import DecisionTreeClassifier \n",
    "from sklearn.preprocessing import LabelEncoder \n"
   ]
  },
  {
   "cell_type": "code",
   "execution_count": 4,
   "metadata": {},
   "outputs": [
    {
     "name": "stdout",
     "output_type": "stream",
     "text": [
      "Sample Dataset - \n",
      "        age    job house     credit loan_approved\n",
      "0    young  False    No       Fair            No\n",
      "1    young  False    No       Good            No\n",
      "2    young   True    No       Good           Yes\n",
      "3    young   True   Yes       Fair           Yes\n",
      "4    young  False    No       Fair            No\n",
      "5   middle  False    No       Fair            No\n",
      "6   middle  False    No       Good            No\n",
      "7   middle   True   Yes       Good           Yes\n",
      "8   middle  False   Yes  Excellent           Yes\n",
      "9   middle  False   Yes  Excellent           Yes\n",
      "10     old  False   Yes  Excellent           Yes\n",
      "11     old  False   Yes       Good           Yes\n",
      "12     old   True    No       Good           Yes\n",
      "13     old   True    No  Excellent           Yes\n",
      "14     old  False    No       Fair            No \n",
      "\n"
     ]
    }
   ],
   "source": [
    "data = pd.read_csv('datasets\\CART.csv') \n",
    "print(\"Sample Dataset - \\n\",data,\"\\n\") "
   ]
  },
  {
   "cell_type": "code",
   "execution_count": 5,
   "metadata": {},
   "outputs": [
    {
     "name": "stdout",
     "output_type": "stream",
     "text": [
      "Given Data after Encoding - \n",
      "        age    job house     credit loan_approved  age_n  job_n  house_n  \\\n",
      "0    young  False    No       Fair            No      2      0        0   \n",
      "1    young  False    No       Good            No      2      0        0   \n",
      "2    young   True    No       Good           Yes      2      1        0   \n",
      "3    young   True   Yes       Fair           Yes      2      1        1   \n",
      "4    young  False    No       Fair            No      2      0        0   \n",
      "5   middle  False    No       Fair            No      0      0        0   \n",
      "6   middle  False    No       Good            No      0      0        0   \n",
      "7   middle   True   Yes       Good           Yes      0      1        1   \n",
      "8   middle  False   Yes  Excellent           Yes      0      0        1   \n",
      "9   middle  False   Yes  Excellent           Yes      0      0        1   \n",
      "10     old  False   Yes  Excellent           Yes      1      0        1   \n",
      "11     old  False   Yes       Good           Yes      1      0        1   \n",
      "12     old   True    No       Good           Yes      1      1        0   \n",
      "13     old   True    No  Excellent           Yes      1      1        0   \n",
      "14     old  False    No       Fair            No      1      0        0   \n",
      "\n",
      "    credit_n  loan_n  \n",
      "0          1       0  \n",
      "1          2       0  \n",
      "2          2       1  \n",
      "3          1       1  \n",
      "4          1       0  \n",
      "5          1       0  \n",
      "6          2       0  \n",
      "7          2       1  \n",
      "8          0       1  \n",
      "9          0       1  \n",
      "10         0       1  \n",
      "11         2       1  \n",
      "12         2       1  \n",
      "13         0       1  \n",
      "14         1       0   \n",
      "\n"
     ]
    }
   ],
   "source": [
    "le_age = LabelEncoder() \n",
    "data['age_n'] = le_age.fit_transform(data['age']) \n",
    "le_job = LabelEncoder() \n",
    "data['job_n'] = le_job.fit_transform(data['job']) \n",
    "le_house = LabelEncoder() \n",
    "data['house_n'] = le_house.fit_transform(data['house']) \n",
    "le_credit = LabelEncoder() \n",
    "data['credit_n'] = le_credit.fit_transform(data['credit']) \n",
    "le_loan = LabelEncoder() \n",
    "data['loan_n'] = le_loan.fit_transform(data['loan_approved']) \n",
    "print(\"Given Data after Encoding - \\n\",data,\"\\n\") "
   ]
  },
  {
   "cell_type": "code",
   "execution_count": 6,
   "metadata": {},
   "outputs": [
    {
     "name": "stdout",
     "output_type": "stream",
     "text": [
      "X - Values\n",
      "     age_n  job_n  house_n  credit_n\n",
      "0       2      0        0         1\n",
      "1       2      0        0         2\n",
      "2       2      1        0         2\n",
      "3       2      1        1         1\n",
      "4       2      0        0         1\n",
      "5       0      0        0         1\n",
      "6       0      0        0         2\n",
      "7       0      1        1         2\n",
      "8       0      0        1         0\n",
      "9       0      0        1         0\n",
      "10      1      0        1         0\n",
      "11      1      0        1         2\n",
      "12      1      1        0         2\n",
      "13      1      1        0         0\n",
      "14      1      0        0         1 \n",
      "\n"
     ]
    }
   ],
   "source": [
    "X = data[['age_n','job_n','house_n','credit_n']] \n",
    "print(\"X - Values\\n\",X,\"\\n\") "
   ]
  },
  {
   "cell_type": "code",
   "execution_count": 7,
   "metadata": {},
   "outputs": [
    {
     "name": "stdout",
     "output_type": "stream",
     "text": [
      "Y - Values\n",
      " 0      No\n",
      "1      No\n",
      "2     Yes\n",
      "3     Yes\n",
      "4      No\n",
      "5      No\n",
      "6      No\n",
      "7     Yes\n",
      "8     Yes\n",
      "9     Yes\n",
      "10    Yes\n",
      "11    Yes\n",
      "12    Yes\n",
      "13    Yes\n",
      "14     No\n",
      "Name: loan_approved, dtype: object \n",
      "\n"
     ]
    }
   ],
   "source": [
    "y = data['loan_approved'] \n",
    "print(\"Y - Values\\n\",y,\"\\n\") \n"
   ]
  },
  {
   "cell_type": "code",
   "execution_count": 8,
   "metadata": {},
   "outputs": [
    {
     "data": {
      "text/html": [
       "<style>#sk-container-id-1 {color: black;background-color: white;}#sk-container-id-1 pre{padding: 0;}#sk-container-id-1 div.sk-toggleable {background-color: white;}#sk-container-id-1 label.sk-toggleable__label {cursor: pointer;display: block;width: 100%;margin-bottom: 0;padding: 0.3em;box-sizing: border-box;text-align: center;}#sk-container-id-1 label.sk-toggleable__label-arrow:before {content: \"▸\";float: left;margin-right: 0.25em;color: #696969;}#sk-container-id-1 label.sk-toggleable__label-arrow:hover:before {color: black;}#sk-container-id-1 div.sk-estimator:hover label.sk-toggleable__label-arrow:before {color: black;}#sk-container-id-1 div.sk-toggleable__content {max-height: 0;max-width: 0;overflow: hidden;text-align: left;background-color: #f0f8ff;}#sk-container-id-1 div.sk-toggleable__content pre {margin: 0.2em;color: black;border-radius: 0.25em;background-color: #f0f8ff;}#sk-container-id-1 input.sk-toggleable__control:checked~div.sk-toggleable__content {max-height: 200px;max-width: 100%;overflow: auto;}#sk-container-id-1 input.sk-toggleable__control:checked~label.sk-toggleable__label-arrow:before {content: \"▾\";}#sk-container-id-1 div.sk-estimator input.sk-toggleable__control:checked~label.sk-toggleable__label {background-color: #d4ebff;}#sk-container-id-1 div.sk-label input.sk-toggleable__control:checked~label.sk-toggleable__label {background-color: #d4ebff;}#sk-container-id-1 input.sk-hidden--visually {border: 0;clip: rect(1px 1px 1px 1px);clip: rect(1px, 1px, 1px, 1px);height: 1px;margin: -1px;overflow: hidden;padding: 0;position: absolute;width: 1px;}#sk-container-id-1 div.sk-estimator {font-family: monospace;background-color: #f0f8ff;border: 1px dotted black;border-radius: 0.25em;box-sizing: border-box;margin-bottom: 0.5em;}#sk-container-id-1 div.sk-estimator:hover {background-color: #d4ebff;}#sk-container-id-1 div.sk-parallel-item::after {content: \"\";width: 100%;border-bottom: 1px solid gray;flex-grow: 1;}#sk-container-id-1 div.sk-label:hover label.sk-toggleable__label {background-color: #d4ebff;}#sk-container-id-1 div.sk-serial::before {content: \"\";position: absolute;border-left: 1px solid gray;box-sizing: border-box;top: 0;bottom: 0;left: 50%;z-index: 0;}#sk-container-id-1 div.sk-serial {display: flex;flex-direction: column;align-items: center;background-color: white;padding-right: 0.2em;padding-left: 0.2em;position: relative;}#sk-container-id-1 div.sk-item {position: relative;z-index: 1;}#sk-container-id-1 div.sk-parallel {display: flex;align-items: stretch;justify-content: center;background-color: white;position: relative;}#sk-container-id-1 div.sk-item::before, #sk-container-id-1 div.sk-parallel-item::before {content: \"\";position: absolute;border-left: 1px solid gray;box-sizing: border-box;top: 0;bottom: 0;left: 50%;z-index: -1;}#sk-container-id-1 div.sk-parallel-item {display: flex;flex-direction: column;z-index: 1;position: relative;background-color: white;}#sk-container-id-1 div.sk-parallel-item:first-child::after {align-self: flex-end;width: 50%;}#sk-container-id-1 div.sk-parallel-item:last-child::after {align-self: flex-start;width: 50%;}#sk-container-id-1 div.sk-parallel-item:only-child::after {width: 0;}#sk-container-id-1 div.sk-dashed-wrapped {border: 1px dashed gray;margin: 0 0.4em 0.5em 0.4em;box-sizing: border-box;padding-bottom: 0.4em;background-color: white;}#sk-container-id-1 div.sk-label label {font-family: monospace;font-weight: bold;display: inline-block;line-height: 1.2em;}#sk-container-id-1 div.sk-label-container {text-align: center;}#sk-container-id-1 div.sk-container {/* jupyter's `normalize.less` sets `[hidden] { display: none; }` but bootstrap.min.css set `[hidden] { display: none !important; }` so we also need the `!important` here to be able to override the default hidden behavior on the sphinx rendered scikit-learn.org. See: https://github.com/scikit-learn/scikit-learn/issues/21755 */display: inline-block !important;position: relative;}#sk-container-id-1 div.sk-text-repr-fallback {display: none;}</style><div id=\"sk-container-id-1\" class=\"sk-top-container\"><div class=\"sk-text-repr-fallback\"><pre>DecisionTreeClassifier()</pre><b>In a Jupyter environment, please rerun this cell to show the HTML representation or trust the notebook. <br />On GitHub, the HTML representation is unable to render, please try loading this page with nbviewer.org.</b></div><div class=\"sk-container\" hidden><div class=\"sk-item\"><div class=\"sk-estimator sk-toggleable\"><input class=\"sk-toggleable__control sk-hidden--visually\" id=\"sk-estimator-id-1\" type=\"checkbox\" checked><label for=\"sk-estimator-id-1\" class=\"sk-toggleable__label sk-toggleable__label-arrow\">DecisionTreeClassifier</label><div class=\"sk-toggleable__content\"><pre>DecisionTreeClassifier()</pre></div></div></div></div></div>"
      ],
      "text/plain": [
       "DecisionTreeClassifier()"
      ]
     },
     "execution_count": 8,
     "metadata": {},
     "output_type": "execute_result"
    }
   ],
   "source": [
    "X_train,X_test,y_train,y_test = train_test_split(X,y,test_size=0.25) \n",
    "model = DecisionTreeClassifier(criterion='gini') \n",
    "model.fit(X_train,y_train) "
   ]
  },
  {
   "cell_type": "code",
   "execution_count": 10,
   "metadata": {},
   "outputs": [
    {
     "name": "stdout",
     "output_type": "stream",
     "text": [
      "Pedicted Values -  ['Yes' 'No' 'No' 'Yes']\n",
      "Original Values of Predicted Values -  ['Yes' 'No' 'No' 'Yes']\n",
      "Predicting for - [young,False,No,Good] -  ['No']\n",
      "Accuracy of Model 1.0\n"
     ]
    },
    {
     "name": "stderr",
     "output_type": "stream",
     "text": [
      "c:\\Python39\\lib\\site-packages\\sklearn\\base.py:409: UserWarning: X does not have valid feature names, but DecisionTreeClassifier was fitted with feature names\n",
      "  warnings.warn(\n"
     ]
    }
   ],
   "source": [
    "print(\"Pedicted Values - \",model.predict(X_test)) \n",
    "print(\"Original Values of Predicted Values - \",y_test.values) \n",
    "print(\"Predicting for - [young,False,No,Good] - \",model.predict([[2,0,0,2]])) \n",
    "print(\"Accuracy of Model\",model.score(X_test,y_test))"
   ]
  },
  {
   "cell_type": "code",
   "execution_count": null,
   "metadata": {},
   "outputs": [],
   "source": []
  }
 ],
 "metadata": {
  "kernelspec": {
   "display_name": "Python 3",
   "language": "python",
   "name": "python3"
  },
  "language_info": {
   "codemirror_mode": {
    "name": "ipython",
    "version": 3
   },
   "file_extension": ".py",
   "mimetype": "text/x-python",
   "name": "python",
   "nbconvert_exporter": "python",
   "pygments_lexer": "ipython3",
   "version": "3.9.7 (tags/v3.9.7:1016ef3, Aug 30 2021, 20:19:38) [MSC v.1929 64 bit (AMD64)]"
  },
  "orig_nbformat": 4,
  "vscode": {
   "interpreter": {
    "hash": "81794d4967e6c3204c66dcd87b604927b115b27c00565d3d43f05ba2f3a2cb0d"
   }
  }
 },
 "nbformat": 4,
 "nbformat_minor": 2
}
