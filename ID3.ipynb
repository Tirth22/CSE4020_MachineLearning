{
 "cells": [
  {
   "cell_type": "code",
   "execution_count": 1,
   "metadata": {},
   "outputs": [],
   "source": [
    "#Importing Libraries\n",
    "\n",
    "import numpy as np\n",
    "import pandas as pd\n",
    "from sklearn.model_selection import train_test_split\n",
    "from sklearn.tree import DecisionTreeClassifier\n",
    "from sklearn.preprocessing import LabelEncoder "
   ]
  },
  {
   "cell_type": "code",
   "execution_count": 2,
   "metadata": {},
   "outputs": [
    {
     "name": "stdout",
     "output_type": "stream",
     "text": [
      "Sample Dataset - \n",
      "       a1    a2      a3 classification\n",
      "0   True   Hot    High             No\n",
      "1   True   Hot    High             No\n",
      "2  False   Hot    High            Yes\n",
      "3  False  Cool  Normal            Yes\n",
      "4  False  Cool  Normal            Yes\n",
      "5   True  Cool    High             No\n",
      "6   True   Hot    High             No\n",
      "7   True   Hot  Normal            Yes\n",
      "8  False  Cool  Normal            Yes\n",
      "9  False  Cool    High            Yes \n",
      "\n"
     ]
    }
   ],
   "source": [
    "#Read Dataset\n",
    "data = pd.read_csv('datasets\\id3.csv')\n",
    "print(\"Sample Dataset - \\n\",data,\"\\n\")"
   ]
  },
  {
   "cell_type": "code",
   "execution_count": 3,
   "metadata": {},
   "outputs": [
    {
     "name": "stdout",
     "output_type": "stream",
     "text": [
      "Given Data after Encoding - \n",
      "       a1    a2      a3 classification  a1_n  a2_n  a3_n\n",
      "0   True   Hot    High             No     1     1     0\n",
      "1   True   Hot    High             No     1     1     0\n",
      "2  False   Hot    High            Yes     0     1     0\n",
      "3  False  Cool  Normal            Yes     0     0     1\n",
      "4  False  Cool  Normal            Yes     0     0     1\n",
      "5   True  Cool    High             No     1     0     0\n",
      "6   True   Hot    High             No     1     1     0\n",
      "7   True   Hot  Normal            Yes     1     1     1\n",
      "8  False  Cool  Normal            Yes     0     0     1\n",
      "9  False  Cool    High            Yes     0     0     0 \n",
      "\n"
     ]
    }
   ],
   "source": [
    "#Encoding Data\n",
    "le_a1 = LabelEncoder()\n",
    "data['a1_n'] = le_a1.fit_transform(data['a1'])\n",
    "\n",
    "le_a2 = LabelEncoder()\n",
    "data['a2_n'] = le_a1.fit_transform(data['a2'])\n",
    "\n",
    "le_a3 = LabelEncoder()\n",
    "data['a3_n'] = le_a1.fit_transform(data['a3'])\n",
    "\n",
    "print(\"Given Data after Encoding - \\n\",data,\"\\n\") "
   ]
  },
  {
   "cell_type": "code",
   "execution_count": 4,
   "metadata": {},
   "outputs": [
    {
     "name": "stdout",
     "output_type": "stream",
     "text": [
      "X - Values\n",
      "    a1_n  a2_n  a3_n\n",
      "0     1     1     0\n",
      "1     1     1     0\n",
      "2     0     1     0\n",
      "3     0     0     1\n",
      "4     0     0     1\n",
      "5     1     0     0\n",
      "6     1     1     0\n",
      "7     1     1     1\n",
      "8     0     0     1\n",
      "9     0     0     0 \n",
      "\n",
      "Y - Values\n",
      " 0     No\n",
      "1     No\n",
      "2    Yes\n",
      "3    Yes\n",
      "4    Yes\n",
      "5     No\n",
      "6     No\n",
      "7    Yes\n",
      "8    Yes\n",
      "9    Yes\n",
      "Name: classification, dtype: object \n",
      "\n"
     ]
    }
   ],
   "source": [
    "X = data[['a1_n','a2_n','a3_n']]\n",
    "print(\"X - Values\\n\",X,\"\\n\")\n",
    "\n",
    "y = data['classification']\n",
    "print(\"Y - Values\\n\",y,\"\\n\")"
   ]
  },
  {
   "cell_type": "code",
   "execution_count": 5,
   "metadata": {},
   "outputs": [
    {
     "name": "stdout",
     "output_type": "stream",
     "text": [
      "Values predicted from test dataset -  ['No' 'Yes' 'Yes']\n",
      "Original Values of test dataset -  ['No' 'Yes' 'Yes']\n",
      "Accuracy of Model 1.0\n"
     ]
    }
   ],
   "source": [
    "X_train,X_test,y_train,y_test=train_test_split(X,y,test_size=0.3)\n",
    "\n",
    "model = DecisionTreeClassifier(criterion='entropy')\n",
    "model.fit(X_train,y_train)\n",
    "\n",
    "print(\"Values predicted from test dataset - \",model.predict(X_test))\n",
    "print(\"Original Values of test dataset - \",y_test.values)\n",
    "print(\"Accuracy of Model\",model.score(X_test,y_test)) "
   ]
  },
  {
   "cell_type": "code",
   "execution_count": null,
   "metadata": {},
   "outputs": [],
   "source": []
  }
 ],
 "metadata": {
  "kernelspec": {
   "display_name": "Python 3",
   "language": "python",
   "name": "python3"
  },
  "language_info": {
   "codemirror_mode": {
    "name": "ipython",
    "version": 3
   },
   "file_extension": ".py",
   "mimetype": "text/x-python",
   "name": "python",
   "nbconvert_exporter": "python",
   "pygments_lexer": "ipython3",
   "version": "3.9.7 (tags/v3.9.7:1016ef3, Aug 30 2021, 20:19:38) [MSC v.1929 64 bit (AMD64)]"
  },
  "orig_nbformat": 4,
  "vscode": {
   "interpreter": {
    "hash": "81794d4967e6c3204c66dcd87b604927b115b27c00565d3d43f05ba2f3a2cb0d"
   }
  }
 },
 "nbformat": 4,
 "nbformat_minor": 2
}
